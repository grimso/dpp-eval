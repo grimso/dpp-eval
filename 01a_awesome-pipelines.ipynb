{
 "cells": [
  {
   "cell_type": "markdown",
   "metadata": {},
   "source": [
    "# Integration of the awesome pipelines data source\n",
    "\n",
    "This notebook loads the \"README.md\" from [awesome pipeline](https://github.com/pditommaso/awesome-pipeline) and extracts all listed tools and tool information. This also includes the tool URL and a tool category. \n",
    "The tool category is derived from the respective section header in the original README.md."
   ]
  },
  {
   "cell_type": "markdown",
   "metadata": {},
   "source": [
    "## Imports"
   ]
  },
  {
   "cell_type": "code",
   "execution_count": null,
   "metadata": {},
   "outputs": [],
   "source": [
    "import requests\n",
    "import re\n",
    "import pandas as pd\n",
    "from bs4 import BeautifulSoup\n",
    "import markdown\n",
    "import numpy as np"
   ]
  },
  {
   "cell_type": "markdown",
   "metadata": {},
   "source": [
    "## Raw Stage - Load raw data source from the GitHub repository\n",
    "\n",
    "A specific git hash was used to ensure reproducibility."
   ]
  },
  {
   "cell_type": "code",
   "execution_count": 47,
   "metadata": {},
   "outputs": [],
   "source": [
    "RAW_DATA_SOURCE_URL = \"https://raw.githubusercontent.com/pditommaso/awesome-pipeline/01f0248ad50234204c0ef1be31e3a754e0e2ae96/README.md\""
   ]
  },
  {
   "cell_type": "code",
   "execution_count": 48,
   "metadata": {},
   "outputs": [],
   "source": [
    "response = requests.get(RAW_DATA_SOURCE_URL)\n",
    "if response.status_code == 200:\n",
    "    readme_text = response.text"
   ]
  },
  {
   "cell_type": "markdown",
   "metadata": {},
   "source": [
    "### Extract relevant tool data from raw source and convert into a pandas DataFrame"
   ]
  },
  {
   "cell_type": "code",
   "execution_count": 50,
   "metadata": {},
   "outputs": [],
   "source": [
    "soup = BeautifulSoup(markdown.markdown(readme_text), 'html.parser')"
   ]
  },
  {
   "cell_type": "code",
   "execution_count": 51,
   "metadata": {},
   "outputs": [],
   "source": [
    "h2_elements = soup.find_all('h2')\n",
    "ul_elements=soup.find_all('ul')\n",
    "all_data = list()\n",
    "for h2_element, ul_element in zip(h2_elements,ul_elements):\n",
    "    h2_text= h2_element.text\n",
    "    for ul_li_element in  ul_element.find_all(\"li\"):\n",
    "        for li_element in ul_li_element.find_all(\"a\"):\n",
    "            name=li_element.text    \n",
    "            ref=li_element.get(\"href\")\n",
    "            all_data.append((h2_text,name,ref))\n"
   ]
  },
  {
   "cell_type": "code",
   "execution_count": 52,
   "metadata": {},
   "outputs": [],
   "source": [
    "df = pd.DataFrame(all_data,columns=[\"category\",\"name\",\"url\"])"
   ]
  },
  {
   "cell_type": "code",
   "execution_count": 53,
   "metadata": {},
   "outputs": [
    {
     "data": {
      "text/plain": [
       "(205, 3)"
      ]
     },
     "execution_count": 53,
     "metadata": {},
     "output_type": "execute_result"
    }
   ],
   "source": [
    "df.shape"
   ]
  },
  {
   "cell_type": "markdown",
   "metadata": {},
   "source": [
    "### Save result of raw stage"
   ]
  },
  {
   "cell_type": "code",
   "execution_count": null,
   "metadata": {},
   "outputs": [],
   "source": [
    "df.to_csv(\"data/01_raw/awesome_pipelines.csv\", index=False)"
   ]
  },
  {
   "cell_type": "markdown",
   "metadata": {},
   "source": [
    "## Intermediate Stage - e.g. URL mapping, column mapping, create id\n"
   ]
  },
  {
   "cell_type": "markdown",
   "metadata": {},
   "source": [
    "### Map tool URL to homepage_url or repo_url\n",
    "\n",
    "Only one URL is provided for each tool and the kind of the homepage (code repository, tool homepage) is not further specified. \n",
    "Here, for a repository it is checked if the URL contains `github.com`."
   ]
  },
  {
   "cell_type": "code",
   "execution_count": 57,
   "metadata": {},
   "outputs": [],
   "source": [
    "df[[\"homepage_url\",\"repo_url\"]] = np.nan\n",
    "df.loc[~df.url.str.contains(\"github.com\"),\"homepage_url\"]=df.loc[~df.url.str.contains(\"github.com\"),\"url\"]\n",
    "df.loc[df.url.str.contains(\"github.com\"),\"repo_url\"]=df.loc[df.url.str.contains(\"github.com\"),\"url\"]\n",
    "# check if the we were able to map all original URLs. \n",
    "assert df.repo_url.str.len().clip(0,1).sum()+df.homepage_url.str.len().clip(0,1).sum()== df.shape[0]"
   ]
  },
  {
   "cell_type": "markdown",
   "metadata": {},
   "source": [
    "### Create IDs "
   ]
  },
  {
   "cell_type": "code",
   "execution_count": 58,
   "metadata": {},
   "outputs": [],
   "source": [
    "df[\"id\"] = df[\"name\"].apply(lambda x: re.sub(\"\\s+\",\"\",x.lower()))\n",
    "df=df[[\"id\",\"name\",\"homepage_url\",\"repo_url\",\"category\"]]"
   ]
  },
  {
   "cell_type": "markdown",
   "metadata": {},
   "source": [
    "### Save result of intermediate stage"
   ]
  },
  {
   "cell_type": "code",
   "execution_count": null,
   "metadata": {},
   "outputs": [],
   "source": [
    "df.to_csv(\"data/02_intermediate/awesome_pipelines.csv\",index=False)"
   ]
  },
  {
   "cell_type": "code",
   "execution_count": 60,
   "metadata": {},
   "outputs": [
    {
     "data": {
      "text/plain": [
       "(205, 5)"
      ]
     },
     "execution_count": 60,
     "metadata": {},
     "output_type": "execute_result"
    }
   ],
   "source": [
    "df.shape"
   ]
  },
  {
   "cell_type": "code",
   "execution_count": 69,
   "metadata": {},
   "outputs": [
    {
     "data": {
      "text/plain": [
       "name            205\n",
       "homepage_url     89\n",
       "repo_url        116\n",
       "category        205\n",
       "dtype: int64"
      ]
     },
     "execution_count": 69,
     "metadata": {},
     "output_type": "execute_result"
    }
   ],
   "source": [
    "df.groupby(\"id\").count().sum()"
   ]
  },
  {
   "cell_type": "markdown",
   "metadata": {},
   "source": [
    "##  Processed stage - only keep relevant tools"
   ]
  },
  {
   "attachments": {},
   "cell_type": "markdown",
   "metadata": {},
   "source": [
    "### Filter by using the category assigned to each tool "
   ]
  },
  {
   "cell_type": "code",
   "execution_count": 63,
   "metadata": {},
   "outputs": [],
   "source": [
    "categories_to_keep=['Pipeline frameworks & libraries', 'Workflow platforms',\n",
    "       'ETL & Data orchestration',\n",
    "       'Extract, transform, load (ETL)']"
   ]
  },
  {
   "cell_type": "code",
   "execution_count": 64,
   "metadata": {},
   "outputs": [],
   "source": [
    "df_filtered = df.query(\"category in @categories_to_keep\").reset_index(drop=True)"
   ]
  },
  {
   "cell_type": "code",
   "execution_count": 65,
   "metadata": {},
   "outputs": [
    {
     "data": {
      "text/html": [
       "<div>\n",
       "<style scoped>\n",
       "    .dataframe tbody tr th:only-of-type {\n",
       "        vertical-align: middle;\n",
       "    }\n",
       "\n",
       "    .dataframe tbody tr th {\n",
       "        vertical-align: top;\n",
       "    }\n",
       "\n",
       "    .dataframe thead th {\n",
       "        text-align: right;\n",
       "    }\n",
       "</style>\n",
       "<table border=\"1\" class=\"dataframe\">\n",
       "  <thead>\n",
       "    <tr style=\"text-align: right;\">\n",
       "      <th></th>\n",
       "      <th>id</th>\n",
       "      <th>name</th>\n",
       "      <th>homepage_url</th>\n",
       "      <th>repo_url</th>\n",
       "    </tr>\n",
       "    <tr>\n",
       "      <th>category</th>\n",
       "      <th></th>\n",
       "      <th></th>\n",
       "      <th></th>\n",
       "      <th></th>\n",
       "    </tr>\n",
       "  </thead>\n",
       "  <tbody>\n",
       "    <tr>\n",
       "      <th>ETL &amp; Data orchestration</th>\n",
       "      <td>4</td>\n",
       "      <td>4</td>\n",
       "      <td>2</td>\n",
       "      <td>2</td>\n",
       "    </tr>\n",
       "    <tr>\n",
       "      <th>Extract, transform, load (ETL)</th>\n",
       "      <td>6</td>\n",
       "      <td>6</td>\n",
       "      <td>3</td>\n",
       "      <td>3</td>\n",
       "    </tr>\n",
       "    <tr>\n",
       "      <th>Pipeline frameworks &amp; libraries</th>\n",
       "      <td>124</td>\n",
       "      <td>124</td>\n",
       "      <td>39</td>\n",
       "      <td>85</td>\n",
       "    </tr>\n",
       "    <tr>\n",
       "      <th>Workflow platforms</th>\n",
       "      <td>31</td>\n",
       "      <td>31</td>\n",
       "      <td>21</td>\n",
       "      <td>10</td>\n",
       "    </tr>\n",
       "  </tbody>\n",
       "</table>\n",
       "</div>"
      ],
      "text/plain": [
       "                                  id  name  homepage_url  repo_url\n",
       "category                                                          \n",
       "ETL & Data orchestration           4     4             2         2\n",
       "Extract, transform, load (ETL)     6     6             3         3\n",
       "Pipeline frameworks & libraries  124   124            39        85\n",
       "Workflow platforms                31    31            21        10"
      ]
     },
     "execution_count": 65,
     "metadata": {},
     "output_type": "execute_result"
    }
   ],
   "source": [
    "df_filtered.groupby(by=\"category\").count()"
   ]
  },
  {
   "cell_type": "markdown",
   "metadata": {},
   "source": [
    "### Save result of processed stage"
   ]
  },
  {
   "cell_type": "code",
   "execution_count": 66,
   "metadata": {},
   "outputs": [],
   "source": [
    "df_filtered.to_csv(\"data/03_processed/awesome_pipelines.csv\", index=False)"
   ]
  },
  {
   "cell_type": "code",
   "execution_count": 67,
   "metadata": {},
   "outputs": [
    {
     "data": {
      "text/plain": [
       "(165, 5)"
      ]
     },
     "execution_count": 67,
     "metadata": {},
     "output_type": "execute_result"
    }
   ],
   "source": [
    "df_filtered.shape"
   ]
  }
 ],
 "metadata": {
  "kernelspec": {
   "display_name": "git_scrape",
   "language": "python",
   "name": "python3"
  },
  "language_info": {
   "codemirror_mode": {
    "name": "ipython",
    "version": 3
   },
   "file_extension": ".py",
   "mimetype": "text/x-python",
   "name": "python",
   "nbconvert_exporter": "python",
   "pygments_lexer": "ipython3",
   "version": "3.11.3"
  },
  "orig_nbformat": 4
 },
 "nbformat": 4,
 "nbformat_minor": 2
}
