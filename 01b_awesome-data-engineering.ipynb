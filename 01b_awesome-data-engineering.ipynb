{
 "cells": [
  {
   "cell_type": "markdown",
   "metadata": {},
   "source": [
    "# Integration of the awesome data engineering data source\n",
    "\n",
    "This notebook loads the \"README.md\" from [awesome data engineering](https://github.com/igorbarinov/awesome-data-engineering) and extracts all listed tools and tool information. This also includes the tool URL and  tool category, and subcategory. \n",
    "The tools' category, subcategories are derived from the section hierarchy using  the respective head lines in the original README.md."
   ]
  },
  {
   "cell_type": "markdown",
   "metadata": {},
   "source": [
    "## Imports"
   ]
  },
  {
   "cell_type": "code",
   "execution_count": null,
   "metadata": {},
   "outputs": [],
   "source": [
    "import requests\n",
    "import pandas as pd\n",
    "from bs4 import BeautifulSoup\n",
    "import markdown\n",
    "import re\n",
    "import numpy as np"
   ]
  },
  {
   "cell_type": "markdown",
   "metadata": {},
   "source": [
    "## Raw Stage - Load raw data source from the GitHub repository\n",
    "\n",
    "A specific git hash was used to ensure reproducibility."
   ]
  },
  {
   "cell_type": "code",
   "execution_count": 55,
   "metadata": {},
   "outputs": [],
   "source": [
    "RAW_DATA_SOURCE_URL = \"https://raw.githubusercontent.com/igorbarinov/awesome-data-engineering/6785280e6ec2a63fc7673b9c8c3cb07676f93da8/README.md\""
   ]
  },
  {
   "cell_type": "code",
   "execution_count": 56,
   "metadata": {},
   "outputs": [],
   "source": [
    "response = requests.get(RAW_DATA_SOURCE_URL)\n",
    "if response.status_code == 200:\n",
    "    readme_text= response.text"
   ]
  },
  {
   "cell_type": "markdown",
   "metadata": {},
   "source": [
    "### Extract relevant tool data from raw source and convert into a pandas DataFrame"
   ]
  },
  {
   "cell_type": "code",
   "execution_count": 58,
   "metadata": {},
   "outputs": [],
   "source": [
    "soup = BeautifulSoup(markdown.markdown(readme_text), 'html.parser')"
   ]
  },
  {
   "cell_type": "code",
   "execution_count": 59,
   "metadata": {},
   "outputs": [],
   "source": [
    "def dictify(ul):\n",
    "    result = {}\n",
    "    for li in ul.find_all(\"li\", recursive=False):\n",
    "        key = next(li.stripped_strings)\n",
    "        ul = li.find(\"ul\")\n",
    "        if ul:       \n",
    "            result[key] = dictify(ul)\n",
    "            missed_ref=li.findChild().get(\"href\")\n",
    "            if missed_ref:\n",
    "                descr = li.text.split(\"\\n\")\n",
    "                descr_text=key\n",
    "                if descr:\n",
    "                    descr_text=descr[0]\n",
    "                result[key][key]=descr_text,missed_ref\n",
    "        else:\n",
    "            result[key] = li.text,li.find(\"a\").get(\"href\",\"\")\n",
    "    return result"
   ]
  },
  {
   "cell_type": "code",
   "execution_count": 60,
   "metadata": {},
   "outputs": [],
   "source": [
    "all_uls = soup.find_all(\"ul\",recursive=False)\n",
    "l_all=[]\n",
    "l_all_dicti=[]\n",
    "test=None\n",
    "for ul_element in all_uls:\n",
    "    dicti = dictify(ul_element)\n",
    "    l_all_dicti.append(dicti)\n",
    "    df=pd.json_normalize(dicti,max_level=2,sep='#').T.reset_index(names=\"index_like\")\n",
    "    df_names=df[\"index_like\"].str.split(\"#\",expand=True)\n",
    "\n",
    "    df[\"category\"]=ul_element.find_previous().text\n",
    "    l_all.append(df)\n"
   ]
  },
  {
   "cell_type": "code",
   "execution_count": 61,
   "metadata": {},
   "outputs": [],
   "source": [
    "df=pd.concat(l_all).reset_index(drop=True)"
   ]
  },
  {
   "cell_type": "code",
   "execution_count": 62,
   "metadata": {},
   "outputs": [],
   "source": [
    "df_names=df[\"index_like\"].str.split(\"#\",expand=True)"
   ]
  },
  {
   "cell_type": "code",
   "execution_count": 63,
   "metadata": {},
   "outputs": [],
   "source": [
    "not_nan_column_count = df_names.notna().sum(axis=1)"
   ]
  },
  {
   "cell_type": "code",
   "execution_count": 64,
   "metadata": {},
   "outputs": [],
   "source": [
    "df_names.loc[not_nan_column_count==2,2]= df_names.loc[not_nan_column_count==2,1]\n",
    "df_names.loc[not_nan_column_count==2,1]=None"
   ]
  },
  {
   "cell_type": "code",
   "execution_count": 65,
   "metadata": {},
   "outputs": [],
   "source": [
    "df_names.loc[not_nan_column_count==1,2]= df_names.loc[not_nan_column_count==1,0]\n",
    "df_names.loc[not_nan_column_count==1,0]=None"
   ]
  },
  {
   "cell_type": "code",
   "execution_count": 66,
   "metadata": {},
   "outputs": [],
   "source": [
    "df_names.rename(columns={0:\"subcategory\",1:\"tool_subcategory\",2:\"name\"},inplace=True)"
   ]
  },
  {
   "cell_type": "code",
   "execution_count": 67,
   "metadata": {},
   "outputs": [],
   "source": [
    "result = pd.concat([df[[\"category\"]],df_names,pd.DataFrame(df[0].to_list(), columns=['description', 'tool_url'])],axis=1)"
   ]
  },
  {
   "cell_type": "code",
   "execution_count": 68,
   "metadata": {},
   "outputs": [
    {
     "data": {
      "text/plain": [
       "(185, 6)"
      ]
     },
     "execution_count": 68,
     "metadata": {},
     "output_type": "execute_result"
    }
   ],
   "source": [
    "result.shape"
   ]
  },
  {
   "cell_type": "markdown",
   "metadata": {},
   "source": [
    "### Save result of raw stage"
   ]
  },
  {
   "cell_type": "code",
   "execution_count": 69,
   "metadata": {},
   "outputs": [],
   "source": [
    "result.to_csv(\"data/01_raw/awesome_data_engineering.csv\", index=False)"
   ]
  },
  {
   "cell_type": "markdown",
   "metadata": {},
   "source": [
    "### Sanity check"
   ]
  },
  {
   "cell_type": "code",
   "execution_count": 70,
   "metadata": {},
   "outputs": [
    {
     "data": {
      "text/plain": [
       "{'https://chairnerd.seatgeek.com/building-out-the-seatgeek-data-pipeline/',\n",
       " 'https://en.wikipedia.org/wiki/Shared-nothing_architecture'}"
      ]
     },
     "execution_count": 70,
     "metadata": {},
     "output_type": "execute_result"
    }
   ],
   "source": [
    "all_urls=[]\n",
    "for ul_element in all_uls:\n",
    "    as_=ul_element.find_all(\"a\")\n",
    "    for a in as_:\n",
    "        all_urls.append(a.get(\"href\"))\n",
    "table__url_set= set(result.tool_url.to_list())\n",
    "all_urls_set = set(all_urls)\n",
    "all_urls_set-table__url_set"
   ]
  },
  {
   "attachments": {},
   "cell_type": "markdown",
   "metadata": {},
   "source": [
    "## Intermediate Stage - e.g. URL mapping, column mapping, create id"
   ]
  },
  {
   "cell_type": "markdown",
   "metadata": {},
   "source": [
    "### Map tool URL to homepage_url or repo_url\n",
    "\n",
    "Only one URL is provided for each tool and the kind of the homepage (code repository, tool homepage) is not further specified. \n",
    "Here, for a repository it is checked if the URL contains `github.com`."
   ]
  },
  {
   "cell_type": "code",
   "execution_count": 71,
   "metadata": {},
   "outputs": [],
   "source": [
    "result[[\"homepage_url\",\"repo_url\"]] = np.nan\n",
    "result.loc[~result.tool_url.str.contains(\"github.com\"),\"homepage_url\"]=result.loc[~result.tool_url.str.contains(\"github.com\"),\"tool_url\"]\n",
    "result.loc[result.tool_url.str.contains(\"github.com\"),\"repo_url\"]=result.loc[result.tool_url.str.contains(\"github.com\"),\"tool_url\"]"
   ]
  },
  {
   "cell_type": "markdown",
   "metadata": {},
   "source": [
    "### Create IDs "
   ]
  },
  {
   "cell_type": "code",
   "execution_count": 72,
   "metadata": {},
   "outputs": [],
   "source": [
    "result[\"id\"] = result[\"name\"].apply(lambda x: re.sub(\"\\s+\",\"\",x.lower()))"
   ]
  },
  {
   "cell_type": "markdown",
   "metadata": {},
   "source": [
    "### Select required columns"
   ]
  },
  {
   "cell_type": "code",
   "execution_count": 73,
   "metadata": {},
   "outputs": [],
   "source": [
    "result = result[[\"id\",\"name\",\"homepage_url\",\"repo_url\",\"category\",\"subcategory\",\"tool_subcategory\"]]"
   ]
  },
  {
   "cell_type": "markdown",
   "metadata": {},
   "source": [
    "### Save result of intermediate stage"
   ]
  },
  {
   "cell_type": "code",
   "execution_count": 74,
   "metadata": {},
   "outputs": [],
   "source": [
    "result.to_csv(\"data/02_intermediate/awesome_data_engineering.csv\",index=False)"
   ]
  },
  {
   "cell_type": "code",
   "execution_count": 75,
   "metadata": {},
   "outputs": [
    {
     "data": {
      "text/plain": [
       "(185, 7)"
      ]
     },
     "execution_count": 75,
     "metadata": {},
     "output_type": "execute_result"
    }
   ],
   "source": [
    "result.shape"
   ]
  },
  {
   "cell_type": "code",
   "execution_count": 76,
   "metadata": {},
   "outputs": [
    {
     "data": {
      "text/plain": [
       "name                185\n",
       "homepage_url        106\n",
       "repo_url             79\n",
       "category            185\n",
       "subcategory          95\n",
       "tool_subcategory     14\n",
       "dtype: int64"
      ]
     },
     "execution_count": 76,
     "metadata": {},
     "output_type": "execute_result"
    }
   ],
   "source": [
    "result.groupby(by=\"id\").count().sum()"
   ]
  },
  {
   "cell_type": "markdown",
   "metadata": {},
   "source": [
    "##  Processed stage - only keep relevant tools"
   ]
  },
  {
   "attachments": {},
   "cell_type": "markdown",
   "metadata": {},
   "source": [
    "### Filter by using the category assigned to each tool "
   ]
  },
  {
   "cell_type": "code",
   "execution_count": null,
   "metadata": {},
   "outputs": [],
   "source": [
    "category_to_keep=[\"Workflow\",\"Batch Processing\",\"Stream Processing\"]"
   ]
  },
  {
   "cell_type": "code",
   "execution_count": null,
   "metadata": {},
   "outputs": [],
   "source": [
    "result = result.query(\"category in @category_to_keep\")"
   ]
  },
  {
   "cell_type": "code",
   "execution_count": null,
   "metadata": {},
   "outputs": [
    {
     "data": {
      "text/plain": [
       "(45, 7)"
      ]
     },
     "execution_count": 51,
     "metadata": {},
     "output_type": "execute_result"
    }
   ],
   "source": [
    "result.shape"
   ]
  },
  {
   "cell_type": "markdown",
   "metadata": {},
   "source": [
    "### Save result of processed stage"
   ]
  },
  {
   "cell_type": "code",
   "execution_count": null,
   "metadata": {},
   "outputs": [],
   "source": [
    "result.to_csv(\"data/03_processed/awesome_data_engineering.csv\",index=False)"
   ]
  }
 ],
 "metadata": {
  "kernelspec": {
   "display_name": "git_scrape",
   "language": "python",
   "name": "python3"
  },
  "language_info": {
   "codemirror_mode": {
    "name": "ipython",
    "version": 3
   },
   "file_extension": ".py",
   "mimetype": "text/x-python",
   "name": "python",
   "nbconvert_exporter": "python",
   "pygments_lexer": "ipython3",
   "version": "3.11.3"
  },
  "orig_nbformat": 4
 },
 "nbformat": 4,
 "nbformat_minor": 2
}
