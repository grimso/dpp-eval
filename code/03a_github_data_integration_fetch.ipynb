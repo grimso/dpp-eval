{
 "cells": [
  {
   "cell_type": "markdown",
   "metadata": {},
   "source": [
    "# GitHub data integration fetch - **final stage**\n",
    "\n",
    "As part of the ** final stage ** relevant GitHub data is integrated for the tools using [pyGitHub](https://pygithub.readthedocs.io/en/stable/).\n",
    "\n",
    "In this notebook the GitHub data is fetched from GitHub.\n"
   ]
  },
  {
   "cell_type": "markdown",
   "metadata": {},
   "source": [
    "## Imports"
   ]
  },
  {
   "cell_type": "code",
   "execution_count": null,
   "metadata": {},
   "outputs": [],
   "source": [
    "from github import Github\n",
    "import pandas as pd\n",
    "from snippets import *\n",
    "import time"
   ]
  },
  {
   "cell_type": "markdown",
   "metadata": {},
   "source": [
    "## Create GitHub Instance\n",
    "\n",
    "You need to configure the GITHUB_TOKEN"
   ]
  },
  {
   "cell_type": "code",
   "execution_count": null,
   "metadata": {},
   "outputs": [],
   "source": [
    "# Use a valid GitHub API access token\n",
    "GITHUB_TOKEN=\"\""
   ]
  },
  {
   "cell_type": "code",
   "execution_count": null,
   "metadata": {},
   "outputs": [],
   "source": [
    "\n",
    "g = Github(GITHUB_TOKEN)"
   ]
  },
  {
   "cell_type": "markdown",
   "metadata": {},
   "source": [
    "## Load tools from consolidated stage\n",
    "\n",
    "Try to get GitHub data for all the tools present in consolidated tool table"
   ]
  },
  {
   "cell_type": "code",
   "execution_count": null,
   "metadata": {},
   "outputs": [],
   "source": [
    "df = pd.read_csv(\"data/04_consolidated/tools.csv\")"
   ]
  },
  {
   "cell_type": "markdown",
   "metadata": {},
   "source": [
    "## Fetch GitHub data for tools\n",
    "\n",
    "Iterates over all tools and tries to fetch the GitHub project information considered as part of this thesis.\n",
    "As the number of API request is limited for a certain time period. This might take multiple hours, as it is very naive and blocking implementation."
   ]
  },
  {
   "cell_type": "code",
   "execution_count": null,
   "metadata": {},
   "outputs": [],
   "source": [
    "results=[]\n",
    "errors = []"
   ]
  },
  {
   "cell_type": "code",
   "execution_count": null,
   "metadata": {},
   "outputs": [],
   "source": [
    "for id,repo_url in zip(df[\"id\"].to_list(),df[\"repo_url\"].to_list()):\n",
    "\n",
    "    while g.rate_limiting[0]<50:\n",
    "        time.sleep(600)\n",
    "        print(\"wait for rate limit\")\n",
    "    is_github,pr_name = get_github_project_name_from_url(repo_url)\n",
    "    #print(pr_name)\n",
    "    if not is_github:\n",
    "        continue\n",
    "    pr_name_normalized=pr_name.replace(\"/\",\"_\")\n",
    "    try:\n",
    "        pr_info = get_project_infromation(g, pr_name)\n",
    "\n",
    "        result= {\"status\":\"okay\",\n",
    "                 \"id\":id,\n",
    "                 \"repo_url\":repo_url,\n",
    "                 \"data\":pr_info}\n",
    "        \n",
    "        results.append(result)\n",
    "\n",
    "    except Exception as e:\n",
    "        result= {\"status\":\"error\",\n",
    "                 \"id\":id,\n",
    "                 \"repo_url\":repo_url,\n",
    "                 \"data\":e}\n",
    "        results.append(result)\n",
    "        print(\"ERROR:\",pr_name)\n"
   ]
  },
  {
   "cell_type": "markdown",
   "metadata": {},
   "source": [
    "### Save result of GitHub data integration"
   ]
  },
  {
   "cell_type": "code",
   "execution_count": null,
   "metadata": {},
   "outputs": [],
   "source": [
    "import pickle\n",
    "with open('data/04_consolidated/github_scrape_results.pickle', 'wb') as handle:\n",
    "    pickle.dump(results, handle, protocol=pickle.HIGHEST_PROTOCOL)"
   ]
  }
 ],
 "metadata": {
  "kernelspec": {
   "display_name": "git_scrape",
   "language": "python",
   "name": "python3"
  },
  "language_info": {
   "codemirror_mode": {
    "name": "ipython",
    "version": 3
   },
   "file_extension": ".py",
   "mimetype": "text/x-python",
   "name": "python",
   "nbconvert_exporter": "python",
   "pygments_lexer": "ipython3",
   "version": "3.11.3"
  },
  "orig_nbformat": 4
 },
 "nbformat": 4,
 "nbformat_minor": 2
}
