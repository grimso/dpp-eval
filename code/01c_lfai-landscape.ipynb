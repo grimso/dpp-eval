{
 "cells": [
  {
   "cell_type": "markdown",
   "metadata": {},
   "source": [
    "# Integration of the [linux foundation data and AI landscape](https://landscape.lfai.foundation/) data source\n",
    "\n",
    "This notebook loads the \"landscape.yml\" from [lfai-landscape](https://github.com/lfai/lfai-landscape/blob/main/landscape.yml) and extracts all listed tools and tool information. This also includes the tool URL, repository URL and a tool category and subcategory. "
   ]
  },
  {
   "cell_type": "markdown",
   "metadata": {},
   "source": [
    "## Imports"
   ]
  },
  {
   "cell_type": "code",
   "execution_count": null,
   "metadata": {},
   "outputs": [],
   "source": [
    "import yaml\n",
    "import requests\n",
    "import pandas as pd\n",
    "import re"
   ]
  },
  {
   "attachments": {},
   "cell_type": "markdown",
   "metadata": {},
   "source": [
    "## Raw Stage - Load raw data source from the GitHub repository\n",
    "\n",
    "A specific git hash was used to ensure reproducibility."
   ]
  },
  {
   "cell_type": "code",
   "execution_count": null,
   "metadata": {},
   "outputs": [],
   "source": [
    "RAW_DATA_SOURCE_URL = \"https://github.com/lfai/lfai-landscape/raw/57d5eb8ada675d545fc8096114eacce65d7cece4/landscape.yml\""
   ]
  },
  {
   "cell_type": "code",
   "execution_count": null,
   "metadata": {},
   "outputs": [],
   "source": [
    "response = requests.get(RAW_DATA_SOURCE_URL)\n",
    "if response.status_code == 200:\n",
    "    lfai_lanscape_yml_text= response.text"
   ]
  },
  {
   "cell_type": "code",
   "execution_count": null,
   "metadata": {},
   "outputs": [],
   "source": [
    "lfai_landscape=yaml.safe_load(lfai_lanscape_yml_text)"
   ]
  },
  {
   "attachments": {},
   "cell_type": "markdown",
   "metadata": {},
   "source": [
    "# Process data"
   ]
  },
  {
   "attachments": {},
   "cell_type": "markdown",
   "metadata": {},
   "source": [
    "### Extract relevant tool data from raw source and convert into a pandas DataFrame"
   ]
  },
  {
   "cell_type": "code",
   "execution_count": null,
   "metadata": {},
   "outputs": [],
   "source": [
    "# dict of dict to flat table\n",
    "pd_list=list()\n",
    "for category in lfai_landscape[\"landscape\"]:\n",
    "    category_name = category[\"name\"]\n",
    "\n",
    "    for subcategory in category[\"subcategories\"]:\n",
    "        subcategory_name=subcategory[\"name\"]\n",
    "        data_sucategory_nomralized =pd.json_normalize( subcategory,record_path=\"items\")\n",
    "        data_sucategory_nomralized[\"category\"]=category_name\n",
    "        data_sucategory_nomralized[\"subcategory\"]=subcategory_name\n",
    "        pd_list.append(data_sucategory_nomralized)"
   ]
  },
  {
   "cell_type": "code",
   "execution_count": null,
   "metadata": {},
   "outputs": [],
   "source": [
    "df_normalized= pd.concat(pd_list).reset_index(drop=True)"
   ]
  },
  {
   "cell_type": "code",
   "execution_count": null,
   "metadata": {},
   "outputs": [],
   "source": [
    "df_normalized.shape"
   ]
  },
  {
   "cell_type": "markdown",
   "metadata": {},
   "source": [
    "### Save result of raw stage"
   ]
  },
  {
   "cell_type": "code",
   "execution_count": null,
   "metadata": {},
   "outputs": [],
   "source": [
    "df_normalized.to_csv(\"data/01_raw/lfai_landscape.csv\",index=False)"
   ]
  },
  {
   "cell_type": "markdown",
   "metadata": {},
   "source": [
    "## Intermediate Stage - e.g. URL mapping, column mapping, crate id"
   ]
  },
  {
   "cell_type": "markdown",
   "metadata": {},
   "source": [
    "### Create IDs "
   ]
  },
  {
   "cell_type": "code",
   "execution_count": null,
   "metadata": {},
   "outputs": [],
   "source": [
    "df_normalized[\"id\"] = df_normalized[\"name\"].apply(lambda x: re.sub(\"\\s+\",\"\",x.lower()))"
   ]
  },
  {
   "cell_type": "markdown",
   "metadata": {},
   "source": [
    "### Select required columns"
   ]
  },
  {
   "cell_type": "code",
   "execution_count": null,
   "metadata": {},
   "outputs": [],
   "source": [
    "df_normalized = df_normalized[[\"id\",\"name\",\"homepage_url\",\"repo_url\",\"category\",\"subcategory\"]]"
   ]
  },
  {
   "attachments": {},
   "cell_type": "markdown",
   "metadata": {},
   "source": [
    "### Save result of intermediate stage"
   ]
  },
  {
   "cell_type": "code",
   "execution_count": null,
   "metadata": {},
   "outputs": [],
   "source": [
    "df_normalized.to_csv(\"data/02_intermediate/lfai_landscape.csv\",index=False)"
   ]
  },
  {
   "cell_type": "code",
   "execution_count": null,
   "metadata": {},
   "outputs": [],
   "source": [
    "df_normalized.groupby(by=\"id\").count().sum()"
   ]
  },
  {
   "attachments": {},
   "cell_type": "markdown",
   "metadata": {},
   "source": [
    "##  Processed stage - only keep relevant tools\n",
    "\n",
    " Select relevant categories and subcategories"
   ]
  },
  {
   "cell_type": "code",
   "execution_count": null,
   "metadata": {},
   "outputs": [],
   "source": [
    "\n",
    "relevant_categories_subcategories={\n",
    "    \"Machine Learning\": [ \"Platform\"], # include Framework?\n",
    "    \"Data\": [\"Lineage\", \"Versioning\", \"Operations\",\"Pipeline Management\", \"Governance\"],\n",
    "    \"Model\":[\"Workflow\"],\n",
    "   # \"Notebook Environment\":[\"Notebook Environment\"]\n",
    "}"
   ]
  },
  {
   "cell_type": "code",
   "execution_count": null,
   "metadata": {},
   "outputs": [],
   "source": [
    "query_expressions=[\n",
    "f\"(category == '{category}' & subcategory in {subcategories})\" for category,subcategories in relevant_categories_subcategories.items()]"
   ]
  },
  {
   "cell_type": "code",
   "execution_count": null,
   "metadata": {},
   "outputs": [],
   "source": [
    "filtered_result = df_normalized.query(\"|\".join(query_expressions)).reset_index(drop=True)"
   ]
  },
  {
   "cell_type": "markdown",
   "metadata": {},
   "source": [
    "### Save result of processed stage"
   ]
  },
  {
   "cell_type": "code",
   "execution_count": null,
   "metadata": {},
   "outputs": [],
   "source": [
    "filtered_result.to_csv(\"data/03_processed/lfai_landscape.csv\",index=False)"
   ]
  },
  {
   "cell_type": "code",
   "execution_count": null,
   "metadata": {},
   "outputs": [],
   "source": [
    "filtered_result.shape"
   ]
  }
 ],
 "metadata": {
  "kernelspec": {
   "display_name": "git_scrape",
   "language": "python",
   "name": "python3"
  },
  "language_info": {
   "codemirror_mode": {
    "name": "ipython",
    "version": 3
   },
   "file_extension": ".py",
   "mimetype": "text/x-python",
   "name": "python",
   "nbconvert_exporter": "python",
   "pygments_lexer": "ipython3",
   "version": "3.11.3"
  },
  "orig_nbformat": 4
 },
 "nbformat": 4,
 "nbformat_minor": 2
}
