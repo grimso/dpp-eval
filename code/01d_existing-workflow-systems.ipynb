{
 "cells": [
  {
   "cell_type": "markdown",
   "metadata": {},
   "source": [
    "# Integration of the exsiting workflow system  data source\n",
    "\n",
    "This notebook loads the reStructuredText file from the [existing workflow systems](https://github.com/common-workflow-language/common-workflow-language/wiki/Existing-Workflow-systems) data source (EWS) and extracts all listed tools and tool information. This also includes the tool URL, publication URL, repository URL and the description.\n",
    "\n",
    "The EWS data source was not used to create the final candidate tool landscape but the existing existing workflow revisited data source. As the EWS data is incomplete."
   ]
  },
  {
   "cell_type": "markdown",
   "metadata": {},
   "source": [
    "## Imports"
   ]
  },
  {
   "cell_type": "code",
   "execution_count": null,
   "metadata": {},
   "outputs": [],
   "source": [
    "import yaml\n",
    "import requests\n",
    "import pandas as pd\n",
    "from bs4 import BeautifulSoup\n",
    "import markdown\n",
    "import re"
   ]
  },
  {
   "cell_type": "markdown",
   "metadata": {},
   "source": [
    "## Helper functions to extract and transform raw data"
   ]
  },
  {
   "cell_type": "code",
   "execution_count": null,
   "metadata": {},
   "outputs": [],
   "source": [
    "def extract_tool_relevant_line_from_string(raw_string):\n",
    "    m = re.search(r'^#.\\s+(.+?)http', raw_string)\n",
    "    if m:\n",
    "        return m.group(1)\n",
    "    return \"\"\n",
    "\n",
    "def find_urls_in_string(raw_string):\n",
    "    return re.findall(r'(https?://[^\\s]+)', raw_string)\n",
    "\n",
    "def string_in_string_list_element(str_name:str, list_of_strings:list[str]):\n",
    "    for a_string in list_of_strings:\n",
    "        if a_string in str_name:\n",
    "            return True\n",
    "\n",
    "    return False\n",
    "\n",
    "def get_tool_and_description_part(raw_string):\n",
    "    pat = re.compile(r'[.:]|\\s+[-(]\\s*')\n",
    "    match = pat.search(raw_string)\n",
    "    if match:\n",
    "        match_index=match.start()\n",
    "        tool_name = raw_string[:match_index]\n",
    "        tool_description = raw_string[match_index:]\n",
    "        return tool_name.strip(), tool_description.strip()\n",
    "    return raw_string.strip(), \"\"\n",
    "\n",
    "def sanetize_from_rst_syntax(raw_string):\n",
    "    return re.sub(r\"\\|\\w{2}\\|\",\"\",raw_string)\n",
    "\n",
    "def sanitize_raw_tool_line(raw_tool_line):\n",
    "    # remove restructured text markdown\n",
    "    processed_line=sanetize_from_rst_syntax(raw_tool_line)\n",
    "    processed_line=processed_line.strip()\n",
    "    tool_part_name,des = get_tool_and_description_part(processed_line)\n",
    "    des = re.sub(r\"^\\s*[-\\.:]\\s*\",\"\",des)\n",
    "    #print(tool_part_name,\"###\",des)\n",
    "    return tool_part_name,des"
   ]
  },
  {
   "cell_type": "markdown",
   "metadata": {},
   "source": [
    "## Raw/Intermediate Stage - Load raw data source from the GitHub wiki and extract and transform relevant tool information"
   ]
  },
  {
   "cell_type": "code",
   "execution_count": 2,
   "metadata": {},
   "outputs": [],
   "source": [
    "RAW_DATA_SOURCE_URL = \"https://raw.githubusercontent.com/wiki/common-workflow-language/common-workflow-language/Existing-Workflow-systems.rest\""
   ]
  },
  {
   "cell_type": "code",
   "execution_count": 3,
   "metadata": {},
   "outputs": [],
   "source": [
    "response = requests.get(RAW_DATA_SOURCE_URL)\n",
    "if response.status_code == 200:\n",
    "    readme_text= response.text"
   ]
  },
  {
   "cell_type": "code",
   "execution_count": 5,
   "metadata": {},
   "outputs": [],
   "source": [
    "# select lines which are part of the tool list\n",
    "lines = readme_text.split(\"\\n\")\n",
    "wfl_tool_lines = [l for l in lines if l.startswith(\"#.\")]"
   ]
  },
  {
   "cell_type": "markdown",
   "metadata": {},
   "source": [
    "### Define variables to (1) identify if a URL can be mapped to a publication, (2) URL can be mapped to a code hosting repository"
   ]
  },
  {
   "cell_type": "code",
   "execution_count": 9,
   "metadata": {},
   "outputs": [],
   "source": [
    "# define host names to identify URLs as a publication\n",
    "article_host_url_identifiers = [\n",
    "    \"doi.org\",\n",
    "    \"ieee.org\",\n",
    "    \"arxiv.org\",\n",
    "    \"jmlr.org\",\n",
    "    \"plos.org\",\n",
    "    \"ncbi.nlm.nih.gov\",\n",
    "    \"biomedcentral.com\",\n",
    "    \"oxfordjournals.org\",\n",
    "    \"academic.oup.com\",\n",
    "    \"semanticscholar.org\",\n",
    "    \"openproceedings.org\"\n",
    "]\n",
    "\n",
    "# define special cases not covered  by variable `article_host_url_identifiers` and which are a publication URL\n",
    "article_special_cases = [ \"10.21105/joss.00830\",\n",
    "\"https://hal.archives-ouvertes.fr/hal-01166298/file/openalea-PradalCohen-Boulakia.pdf\",\n",
    "\"http://bioinformatics.hsanmartino.it/bits_library/library/00079.pdf\",\n",
    "\"http://bioinformatics.hsanmartino.it/bits_library/library/00568.pdf\",\n",
    "\"https://www.harrisgeospatial.com/Learn/Whitepapers/TabId/2359/ArtMID/10212/ArticleID/17299/Workflow-Tools-in-ENVI.aspx\",\n",
    "\"ccl.cse.nd.edu/research/papers/jx-escience-2018.pdf\",\n",
    "\"http://www.i3s.unice.fr/~johan/publis/MOTEUR-poster-A4.pdf\"]\n",
    "\n",
    "# host names to identify a code repository URL\n",
    "repository_url_identifiers =  [\n",
    "    \"bitbucket.com\",\n",
    "    \"bitbucket.org\",\n",
    "    \"gitlab.com\",\n",
    "    \"github.com\"\n",
    "]"
   ]
  },
  {
   "cell_type": "markdown",
   "metadata": {},
   "source": [
    "### Extract relevant tool data from raw source and convert into a pandas DataFrame"
   ]
  },
  {
   "cell_type": "code",
   "execution_count": 12,
   "metadata": {},
   "outputs": [],
   "source": [
    "all_repos=[]\n",
    "all_pubs=[]\n",
    "all_projects=[]\n",
    "all_tool_name_strs = []\n",
    "all_tool_description_strs = []\n",
    "\n",
    "for e in wfl_tool_lines:\n",
    "    tool_name_raw = extract_tool_relevant_line_from_string(e)\n",
    "    tool_name,tool_description = sanitize_raw_tool_line(tool_name_raw)\n",
    "    http_lines = find_urls_in_string(e)\n",
    "\n",
    "    repository_urls =[]\n",
    "    project_urls=[]\n",
    "    publication_urls = []\n",
    "    for url in http_lines:\n",
    "        # is repository\n",
    "        if string_in_string_list_element(url,repository_url_identifiers):\n",
    "            repository_urls.append(url)\n",
    "            continue\n",
    "        if string_in_string_list_element(url,article_host_url_identifiers+article_special_cases ):\n",
    "            publication_urls.append(url)\n",
    "            continue\n",
    "        project_urls.append(url)\n",
    "\n",
    "    all_repos.append(repository_urls)\n",
    "    all_pubs.append(publication_urls)\n",
    "    all_projects.append(project_urls)\n",
    "    all_tool_name_strs.append(tool_name)\n",
    "    all_tool_description_strs.append(tool_description)"
   ]
  },
  {
   "cell_type": "code",
   "execution_count": 13,
   "metadata": {},
   "outputs": [],
   "source": [
    "df = pd.DataFrame([all_tool_name_strs,all_tool_description_strs, all_projects,all_repos,all_pubs,wfl_tool_lines]).T\n"
   ]
  },
  {
   "cell_type": "markdown",
   "metadata": {},
   "source": [
    "### Set column names of DataFrame"
   ]
  },
  {
   "cell_type": "code",
   "execution_count": 14,
   "metadata": {},
   "outputs": [],
   "source": [
    "df.columns=[\"tool\",\"tool_description\",\"project_url\",\"repository_url\",\"publication_url\",\"raw\"]"
   ]
  },
  {
   "cell_type": "code",
   "execution_count": 15,
   "metadata": {},
   "outputs": [
    {
     "data": {
      "text/plain": [
       "tool              len    336\n",
       "tool_description  len     92\n",
       "project_url       len    206\n",
       "repository_url    len    154\n",
       "publication_url   len     72\n",
       "raw               len    336\n",
       "dtype: int64"
      ]
     },
     "execution_count": 15,
     "metadata": {},
     "output_type": "execute_result"
    }
   ],
   "source": [
    "df.agg([len]).clip(0,1).sum()"
   ]
  },
  {
   "cell_type": "markdown",
   "metadata": {},
   "source": [
    "### Special handling required for Seqware\n",
    "\n",
    "Extraction functions to split tool name and description does not always work, as different representations exist in the raw data source for different tools."
   ]
  },
  {
   "cell_type": "code",
   "execution_count": 16,
   "metadata": {},
   "outputs": [],
   "source": [
    "df.loc[df.tool.str.contains(\"seqware\"),\"tool_description\"]=df.loc[df.tool.str.contains(\"seqware\"),\"tool\"]+df.loc[df.tool.str.contains(\"seqware\"),\"tool_description\"]\n",
    "df.loc[df.tool.str.contains(\"seqware\"),\"tool\"]=\"SeqWare\""
   ]
  },
  {
   "cell_type": "markdown",
   "metadata": {},
   "source": [
    "### Save result of raw/intermediate stage"
   ]
  },
  {
   "cell_type": "code",
   "execution_count": 18,
   "metadata": {},
   "outputs": [],
   "source": [
    "df.to_csv(\"data/01_raw/ews.csv\",index=False,sep=\"\\t\")"
   ]
  },
  {
   "cell_type": "code",
   "execution_count": 19,
   "metadata": {},
   "outputs": [],
   "source": [
    "df.to_csv(\"data/02_intermediate/ews.csv\",index=False)"
   ]
  }
 ],
 "metadata": {
  "kernelspec": {
   "display_name": "git_scrape",
   "language": "python",
   "name": "python3"
  },
  "language_info": {
   "codemirror_mode": {
    "name": "ipython",
    "version": 3
   },
   "file_extension": ".py",
   "mimetype": "text/x-python",
   "name": "python",
   "nbconvert_exporter": "python",
   "pygments_lexer": "ipython3",
   "version": "3.10.11"
  },
  "orig_nbformat": 4
 },
 "nbformat": 4,
 "nbformat_minor": 2
}
