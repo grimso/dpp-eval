{
 "cells": [
  {
   "cell_type": "markdown",
   "metadata": {},
   "source": [
    "# Homepage data integration - **final stage**\n",
    "\n",
    "As part of the ** final stage ** the tools' homepage data is fetched and saved."
   ]
  },
  {
   "cell_type": "markdown",
   "metadata": {},
   "source": [
    "## Imports"
   ]
  },
  {
   "cell_type": "code",
   "execution_count": null,
   "metadata": {},
   "outputs": [],
   "source": [
    "import pandas as pd\n",
    "import requests"
   ]
  },
  {
   "cell_type": "markdown",
   "metadata": {},
   "source": [
    "## Load tools from consolidated stage\n",
    "\n",
    "Try to get homepage data for all the tools present in consolidated tool table.\n",
    "\n",
    "Only tools can be considered where a homepage URL is available."
   ]
  },
  {
   "cell_type": "code",
   "execution_count": 22,
   "metadata": {},
   "outputs": [],
   "source": [
    "df = pd.read_csv(\"data/04_consolidated/tools.csv\")"
   ]
  },
  {
   "cell_type": "code",
   "execution_count": 23,
   "metadata": {},
   "outputs": [
    {
     "data": {
      "text/plain": [
       "(364, 8)"
      ]
     },
     "execution_count": 23,
     "metadata": {},
     "output_type": "execute_result"
    }
   ],
   "source": [
    "df.shape"
   ]
  },
  {
   "cell_type": "code",
   "execution_count": 24,
   "metadata": {},
   "outputs": [
    {
     "data": {
      "text/plain": [
       "(241, 8)"
      ]
     },
     "execution_count": 24,
     "metadata": {},
     "output_type": "execute_result"
    }
   ],
   "source": [
    "df.loc[df[\"homepage_url\"].notna()].shape"
   ]
  },
  {
   "cell_type": "markdown",
   "metadata": {},
   "source": [
    "## Fetch homepage data HTTP GET requests\n",
    "\n",
    "A simple approach using simple HTTP GET requests and saving the respective response text.\n",
    "\n",
    "Response status, response text for each tool are combined in a DataFrame."
   ]
  },
  {
   "cell_type": "code",
   "execution_count": 5,
   "metadata": {},
   "outputs": [
    {
     "name": "stdout",
     "output_type": "stream",
     "text": [
      "bcbio\n",
      "dataview\n",
      "jtracker\n",
      "wopmars\n"
     ]
    }
   ],
   "source": [
    "homepage_responses=[]\n",
    "for intex, row in df.loc[df[\"homepage_url\"].notna()].iterrows():\n",
    "    try:\n",
    "        response = requests.get(row[\"homepage_url\"])\n",
    "        status=response.status_code\n",
    "        responste_text = response.text\n",
    "        homepage_responses.append({\"tool\":row[\"id\"],\"status_code\":response.status_code,\"text\":response.text})\n",
    "    except Exception as e:\n",
    "        print(row[\"id\"])\n",
    "        homepage_responses.append({\"tool\":row[\"id\"],\"error\":e})\n"
   ]
  },
  {
   "cell_type": "code",
   "execution_count": 25,
   "metadata": {},
   "outputs": [
    {
     "data": {
      "text/plain": [
       "(241, 4)"
      ]
     },
     "execution_count": 25,
     "metadata": {},
     "output_type": "execute_result"
    }
   ],
   "source": [
    "df=pd.DataFrame(homepage_responses).rename(columns={\"tool\":\"id\"})\n",
    "df.shape"
   ]
  },
  {
   "cell_type": "code",
   "execution_count": 26,
   "metadata": {},
   "outputs": [
    {
     "data": {
      "text/plain": [
       "(237, 4)"
      ]
     },
     "execution_count": 26,
     "metadata": {},
     "output_type": "execute_result"
    }
   ],
   "source": [
    "df_no_exception=df[df[\"error\"].isna()]\n",
    "df_no_exception.shape"
   ]
  },
  {
   "cell_type": "code",
   "execution_count": 27,
   "metadata": {},
   "outputs": [
    {
     "data": {
      "text/plain": [
       "(227, 4)"
      ]
     },
     "execution_count": 27,
     "metadata": {},
     "output_type": "execute_result"
    }
   ],
   "source": [
    "df_status_code_200=df_no_exception[df_no_exception[\"status_code\"]==200]\n",
    "df_status_code_200.shape"
   ]
  },
  {
   "cell_type": "markdown",
   "metadata": {},
   "source": [
    "### Save result of homepage data integration\n",
    "\n",
    "Save tools and homepage data where fetching was successful (HTTP 200 response).\n",
    "\n",
    "Result is saved in **final** data folder."
   ]
  },
  {
   "cell_type": "code",
   "execution_count": 18,
   "metadata": {},
   "outputs": [],
   "source": [
    "df_status_code_200.to_csv(\"data/05_final/homepages.csv\",index=False)"
   ]
  }
 ],
 "metadata": {
  "kernelspec": {
   "display_name": "git_scrape",
   "language": "python",
   "name": "python3"
  },
  "language_info": {
   "codemirror_mode": {
    "name": "ipython",
    "version": 3
   },
   "file_extension": ".py",
   "mimetype": "text/x-python",
   "name": "python",
   "nbconvert_exporter": "python",
   "pygments_lexer": "ipython3",
   "version": "3.11.3"
  },
  "orig_nbformat": 4
 },
 "nbformat": 4,
 "nbformat_minor": 2
}
