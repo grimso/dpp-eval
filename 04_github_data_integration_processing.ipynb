{
 "cells": [
  {
   "cell_type": "markdown",
   "metadata": {},
   "source": [
    "# GitHub data integration processing - **final stage**\n",
    "\n",
    "As part of the ** final stage ** relevant GitHub data is integrated. In notebook `03a_github_data_integration_fetch` GitHub data was fetched and stored as pickle file.\n",
    "\n",
    "This notebooks loads the pickle file and transforms it into the final tables **github**, **github_topics**, and **github_languages**."
   ]
  },
  {
   "cell_type": "markdown",
   "metadata": {},
   "source": [
    "## Imports"
   ]
  },
  {
   "cell_type": "code",
   "execution_count": null,
   "metadata": {},
   "outputs": [],
   "source": [
    "import pickle\n",
    "import pandas as pd\n",
    "from snippets import Result\n",
    "from datetime import datetime, timedelta"
   ]
  },
  {
   "cell_type": "markdown",
   "metadata": {},
   "source": [
    "## Load results from notebook `03a_github_data_integration_fetch`"
   ]
  },
  {
   "cell_type": "code",
   "execution_count": null,
   "metadata": {},
   "outputs": [],
   "source": [
    "with open('data/04_consolidated/github_scrape_results.pickle', 'rb') as f:\n",
    "    results= pickle.load(f)"
   ]
  },
  {
   "cell_type": "code",
   "execution_count": null,
   "metadata": {},
   "outputs": [],
   "source": [
    "# tools where not GitHub data was retrieved\n",
    "[ e[\"data\"] for e in results if e[\"status\"]!=\"okay\"]"
   ]
  },
  {
   "cell_type": "markdown",
   "metadata": {},
   "source": [
    "## Convert fetched GitHub data into pandas DataFrame "
   ]
  },
  {
   "cell_type": "code",
   "execution_count": null,
   "metadata": {},
   "outputs": [],
   "source": [
    "df=pd.DataFrame([{\"id\":result[\"id\"]}|result[\"data\"].__dict__ for result in results if result[\"status\"]==\"okay\"])"
   ]
  },
  {
   "cell_type": "code",
   "execution_count": null,
   "metadata": {},
   "outputs": [],
   "source": [
    "df.shape"
   ]
  },
  {
   "cell_type": "markdown",
   "metadata": {},
   "source": [
    "### Data cleaning: drop duplicates based on GitHub name"
   ]
  },
  {
   "cell_type": "code",
   "execution_count": null,
   "metadata": {},
   "outputs": [],
   "source": [
    "df=df.drop_duplicates(subset=[\"full_name\"])\n",
    "df.shape"
   ]
  },
  {
   "cell_type": "markdown",
   "metadata": {},
   "source": [
    "### Column Type mapping"
   ]
  },
  {
   "cell_type": "code",
   "execution_count": null,
   "metadata": {},
   "outputs": [],
   "source": [
    "df=df.astype({\"name\":\"string\",\n",
    "           \"full_name\":\"string\",\n",
    "\"description\":\"string\",\n",
    "\"homepage\":\"string\",\n",
    "\"archived\":\"bool\",\n",
    "\"stargazers_count\":\"int32\",\n",
    "\"updated_at\":\"string\" ,              \n",
    "\"created_at\":\"string\",\n",
    "\"forks_count\":\"int32\",\n",
    "\"subscribers_count\":\"int32\",\n",
    "\"contributors_count\": \"int32\",\n",
    "\"release_count\":\"int32\",\n",
    "\"latest_release_name\":\"string\",\n",
    "\"latest_release_date\" :\"string\",\n",
    "\"license_name\": \"string\",\n",
    "\"commits_count\":\"int32\",\n",
    "\"latest_tag_name\":\"string\",\n",
    "\"tags_count\":\"int32\",\n",
    "\"latest_tag_date\": \"string\" ,\n",
    "\"latest_event_date\":\"string\",\n",
    "\"last_commit_date_main\":\"string\",\n",
    "\"readme\":\"string\"\n",
    "           })"
   ]
  },
  {
   "cell_type": "code",
   "execution_count": null,
   "metadata": {},
   "outputs": [],
   "source": [
    "str_with_datetime_isoformat=[\"updated_at\",\"created_at\",\"latest_release_date\",\"latest_tag_date\",\"latest_event_date\",\"last_commit_date_main\",\"request_date\"]\n",
    "for column in str_with_datetime_isoformat:\n",
    "    df[column]=pd.to_datetime(df[column],utc=True)"
   ]
  },
  {
   "cell_type": "code",
   "execution_count": null,
   "metadata": {},
   "outputs": [],
   "source": [
    "df.dtypes"
   ]
  },
  {
   "cell_type": "markdown",
   "metadata": {},
   "source": [
    "## `github` table: save relevant columns"
   ]
  },
  {
   "cell_type": "code",
   "execution_count": null,
   "metadata": {},
   "outputs": [],
   "source": [
    "df[['id', 'name', 'full_name', 'description', 'homepage', 'archived',\n",
    "       'stargazers_count', 'updated_at', 'created_at',\n",
    "       'forks_count', 'subscribers_count', 'contributors_count',\n",
    "       'release_count', 'latest_release_name', 'latest_release_date',\n",
    "       'license_name', 'commits_count', 'latest_tag_name', 'tags_count',\n",
    "       'latest_tag_date', 'latest_event_date', 'last_commit_date_main',\n",
    "       'readme', 'request_date']].to_csv(\"data/05_final/github.csv\",index=False)"
   ]
  },
  {
   "cell_type": "markdown",
   "metadata": {},
   "source": [
    "## `github_topics` table: convert and extract github topic table"
   ]
  },
  {
   "cell_type": "code",
   "execution_count": null,
   "metadata": {},
   "outputs": [],
   "source": [
    "df_topics=df[[\"full_name\",\"topics\"]].explode(\"topics\")\n",
    "df_topics_notna=df_topics[df_topics[\"topics\"].notna()]"
   ]
  },
  {
   "cell_type": "code",
   "execution_count": null,
   "metadata": {},
   "outputs": [],
   "source": [
    "df_topics_notna.to_csv(\"data/05_final/github_topics.csv\",index=False)\n"
   ]
  },
  {
   "cell_type": "code",
   "execution_count": null,
   "metadata": {},
   "outputs": [],
   "source": [
    "df_topics_notna.drop_duplicates(subset=\"full_name\").shape"
   ]
  },
  {
   "cell_type": "code",
   "execution_count": null,
   "metadata": {},
   "outputs": [],
   "source": [
    "df_topics_count=df_topics.value_counts(subset=\"topics\").reset_index(name=\"count\")"
   ]
  },
  {
   "attachments": {},
   "cell_type": "markdown",
   "metadata": {},
   "source": [
    "## Convert fetched GitHub data into pandas DataFrame "
   ]
  },
  {
   "cell_type": "code",
   "execution_count": null,
   "metadata": {},
   "outputs": [],
   "source": [
    "df_languages=df[[\"full_name\"]].reset_index(drop=True).join(pd.DataFrame(df[\"languages\"].tolist()))"
   ]
  },
  {
   "cell_type": "code",
   "execution_count": null,
   "metadata": {},
   "outputs": [],
   "source": [
    "df_languages=df_languages.melt(id_vars=[\"full_name\"],var_name=\"language\",value_name=\"count\").dropna(subset=\"count\")"
   ]
  },
  {
   "cell_type": "code",
   "execution_count": null,
   "metadata": {},
   "outputs": [],
   "source": [
    "df_languages[\"percentage\"]=(df_languages[\"count\"]/df_languages.groupby('full_name')['count'].transform('sum'))*100"
   ]
  },
  {
   "cell_type": "code",
   "execution_count": null,
   "metadata": {},
   "outputs": [],
   "source": [
    "df_languages.drop_duplicates(subset=\"full_name\").shape"
   ]
  },
  {
   "cell_type": "code",
   "execution_count": null,
   "metadata": {},
   "outputs": [],
   "source": [
    "df_languages.to_csv(\"data/05_final/github_languages.csv\",index=False)"
   ]
  }
 ],
 "metadata": {
  "kernelspec": {
   "display_name": "github",
   "language": "python",
   "name": "python3"
  },
  "language_info": {
   "codemirror_mode": {
    "name": "ipython",
    "version": 3
   },
   "file_extension": ".py",
   "mimetype": "text/x-python",
   "name": "python",
   "nbconvert_exporter": "python",
   "pygments_lexer": "ipython3",
   "version": "3.11.3"
  },
  "orig_nbformat": 4
 },
 "nbformat": 4,
 "nbformat_minor": 2
}
